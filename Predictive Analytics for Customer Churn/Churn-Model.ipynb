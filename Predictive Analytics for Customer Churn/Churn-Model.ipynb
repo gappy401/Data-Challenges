{
 "cells": [
  {
   "cell_type": "markdown",
   "metadata": {},
   "source": [
    "## The Data Overview :\n",
    "\n",
    "This dataset contains anonymized information about customer subscriptions and their interaction with the service. The data includes various features such as subscription type, payment method, viewing preferences, customer support interactions, and other relevant attributes. It consists of three files such as \"test.csv\", \"train.csv\", \"data_descriptions.csv\"."
   ]
  },
  {
   "cell_type": "markdown",
   "metadata": {},
   "source": [
    "The Data Description\n",
    "\n",
    "CustomerID: Unique identifier for each customer\n",
    "\n",
    "SubscriptionType: Type of subscription plan chosen by the customer (e.g., Basic, Premium, Deluxe)\n",
    "\n",
    "PaymentMethod: Method used for payment (e.g., Credit Card, Electronic Check, PayPal)\n",
    "\n",
    "PaperlessBilling: Whether the customer uses paperless billing (Yes/No)\n",
    "\n",
    "ContentType: Type of content accessed by the customer (e.g., Movies, TV Shows, Documentaries)\n",
    "\n",
    "MultiDeviceAccess: Whether the customer has access on multiple devices (Yes/No)\n",
    "\n",
    "DeviceRegistered: Device registered by the customer (e.g., Smartphone, Smart TV, Laptop)\n",
    "\n",
    "GenrePreference: Genre preference of the customer (e.g., Action, Drama, Comedy)\n",
    "\n",
    "Gender: Gender of the customer (Male/Female)\n",
    "\n",
    "ParentalControl: Whether parental control is enabled (Yes/No)\n",
    "\n",
    "SubtitlesEnabled: Whether subtitles are enabled (Yes/No)\n",
    "\n",
    "AccountAge: Age of the customer's subscription account (in months)\n",
    "\n",
    "MonthlyCharges: Monthly subscription charges\n",
    "\n",
    "TotalCharges: Total charges incurred by the customer\n",
    "\n",
    "ViewingHoursPerWeek: Average number of viewing hours per week\n",
    "\n",
    "SupportTicketsPerMonth: Number of customer support tickets raised per month\n",
    "\n",
    "AverageViewingDuration: Average duration of each viewing session\n",
    "\n",
    "ContentDownloadsPerMonth: Number of content downloads per month\n",
    "\n",
    "UserRating: Customer satisfaction rating (1 to 5)\n",
    "\n",
    "WatchlistSize: Size of the customer's content watchlist"
   ]
  },
  {
   "cell_type": "code",
   "execution_count": null,
   "metadata": {
    "vscode": {
     "languageId": "plaintext"
    }
   },
   "outputs": [],
   "source": []
  },
  {
   "cell_type": "code",
   "execution_count": null,
   "metadata": {
    "vscode": {
     "languageId": "plaintext"
    }
   },
   "outputs": [],
   "source": []
  }
 ],
 "metadata": {
  "language_info": {
   "name": "python"
  }
 },
 "nbformat": 4,
 "nbformat_minor": 2
}
